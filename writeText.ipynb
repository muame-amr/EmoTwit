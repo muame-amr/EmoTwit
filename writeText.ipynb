{
 "cells": [
  {
   "cell_type": "code",
   "execution_count": 1,
   "metadata": {},
   "outputs": [],
   "source": [
    "import numpy as np\n",
    "import pandas as pd\n",
    "import os\n",
    "import glob\n",
    "import math\n",
    "import json"
   ]
  },
  {
   "cell_type": "code",
   "execution_count": 2,
   "metadata": {},
   "outputs": [],
   "source": [
    "def convertToCsv():\n",
    "  pos_df = pd.read_json(\"datasets/twitter-malaya/strong-positives.json\")\n",
    "  neg_df = pd.read_json(\"datasets/twitter-malaya/strong-negatives.json\")\n",
    "  pos_train_idx = int(np.floor(0.8 * 1084592))\n",
    "  neg_train_idx = int(np.floor(0.8 * 1892193))\n",
    "\n",
    "  # Shuffle the data\n",
    "  shuff_pos = pos_df.sample(frac=1)\n",
    "  shuff_neg = neg_df.sample(frac=1)\n",
    "\n",
    "  # Split the data\n",
    "  pos_train = shuff_pos[:pos_train_idx]\n",
    "  pos_test = shuff_pos[pos_train_idx:]\n",
    "  neg_train = shuff_neg[:neg_train_idx]\n",
    "  neg_test = shuff_neg[neg_train_idx:]\n",
    "\n",
    "  # Convert to txt/csv file\n",
    "  pos_train.to_csv(\"datasets/twitter-malaya/train/pos_train.csv\", index=False)\n",
    "  pos_test.to_csv(\"datasets/twitter-malaya/test/pos_test.csv\", index=False)\n",
    "  neg_train.to_csv(\"datasets/twitter-malaya/train/neg_train.csv\", index=False)\n",
    "  neg_test.to_csv(\"datasets/twitter-malaya/test/neg_test.csv\", index=False)"
   ]
  },
  {
   "cell_type": "code",
   "execution_count": 3,
   "metadata": {},
   "outputs": [],
   "source": [
    "def vectorToTxt():\n",
    "  data = np.load(\"datasets/word2vec-ms-socialmedia-256.npy\")\n",
    "  np.savetxt('datasets/word2vec-ms-socialmedia-256.txt', data)"
   ]
  },
  {
   "cell_type": "code",
   "execution_count": 4,
   "metadata": {},
   "outputs": [],
   "source": [
    "def fragmentVectorToTxt():\n",
    "  data = np.load(\"datasets/word2vec-ms-socialmedia-256.npy\")\n",
    "  np.random.shuffle(data)\n",
    "  newData = data[:129463]\n",
    "  np.savetxt('datasets/fragmented-word2vec-ms-socialmedia-256.txt', newData)"
   ]
  },
  {
   "cell_type": "code",
   "execution_count": 5,
   "metadata": {},
   "outputs": [],
   "source": [
    "def write_to_text_positive():\n",
    "    with open(\"./datasets/twitter-malaya/strong-positives.json\") as f:\n",
    "        text_list = json.load(f)\n",
    "        for text in text_list:\n",
    "            print(text)\n",
    "        # filename = \"./datasets/strong-positives.txt\"\n",
    "        # with open(filename, 'w') as fileS:\n",
    "        #     for text in text_list:\n",
    "        #         file.write(text)\n",
    "        #         file.write('\\n')"
   ]
  },
  {
   "cell_type": "code",
   "execution_count": 6,
   "metadata": {},
   "outputs": [],
   "source": [
    "def wirte_to_text_negative(idx):\n",
    "  with open(negative_list[idx]) as f:\n",
    "        text_list = json.load(f)\n",
    "        filename = \"./datasets/negative/\" + str(idx) + \".txt\"\n",
    "        with open(filename, 'w') as file:\n",
    "            for text in text_list:\n",
    "                file.write(text)\n",
    "                file.write('\\n')"
   ]
  },
  {
   "cell_type": "code",
   "execution_count": 7,
   "metadata": {},
   "outputs": [],
   "source": [
    "def write_to_text_malaya():\n",
    "  pos_df = pd.read_json(\"datasets/twitter-malaya/strong-positives.json\")\n",
    "  neg_df = pd.read_json(\"datasets/twitter-malaya/strong-negatives.json\")\n",
    "  full_df = pd.concat([pos_df, neg_df], axis=0)\n",
    "  filename = \"./datasets/twitter-malaya/raw_tweets.txt\"\n",
    "  with open(filename, 'w') as file:\n",
    "    for tweets in full_df.values:\n",
    "      file.write(''.join(tweets))\n"
   ]
  },
  {
   "cell_type": "code",
   "execution_count": null,
   "metadata": {},
   "outputs": [],
   "source": []
  }
 ],
 "metadata": {
  "interpreter": {
   "hash": "aecd030d4c8316a52bf122072e28f84bcc79844c2684e041fef2e3f1d9f59078"
  },
  "kernelspec": {
   "display_name": "Python 3.10.2 64-bit",
   "language": "python",
   "name": "python3"
  },
  "language_info": {
   "codemirror_mode": {
    "name": "ipython",
    "version": 3
   },
   "file_extension": ".py",
   "mimetype": "text/x-python",
   "name": "python",
   "nbconvert_exporter": "python",
   "pygments_lexer": "ipython3",
   "version": "3.10.2"
  },
  "orig_nbformat": 4
 },
 "nbformat": 4,
 "nbformat_minor": 2
}
